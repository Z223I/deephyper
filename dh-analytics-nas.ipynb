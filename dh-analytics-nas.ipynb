{
 "cells": [
  {
   "cell_type": "markdown",
   "metadata": {
    "ExecuteTime": {
     "end_time": "2019-05-06T21:59:04.765111Z",
     "start_time": "2019-05-06T21:59:04.762923Z"
    }
   },
   "source": [
    "# DeepHyper Analytics for Neural Architecture Search - Single Study\n",
    "**path to data log directory**: data_2021-07-14_01.json\n",
    "\n",
    "for customization please see: https://matplotlib.org/api/matplotlib_configuration_api.html\n",
    "\n",
    "## Setup & Data loading"
   ]
  },
  {
   "cell_type": "code",
   "execution_count": 1,
   "metadata": {},
   "outputs": [],
   "source": [
    "path_to_logdir = '/home/bwilson/DL/deephyper'"
   ]
  },
  {
   "cell_type": "code",
   "execution_count": 2,
   "metadata": {},
   "outputs": [],
   "source": [
    "import os\n",
    "import json\n",
    "from pprint import pprint\n",
    "from datetime import datetime\n",
    "\n",
    "import matplotlib\n",
    "import matplotlib.ticker as ticker\n",
    "import matplotlib.pyplot as plt\n",
    "\n",
    "import numpy as np\n",
    "import pandas as pd\n",
    "from tqdm import tqdm\n",
    "from IPython.display import display, Markdown\n",
    "\n",
    "from deephyper.core.logs.topk import output_best_configuration"
   ]
  },
  {
   "cell_type": "code",
   "execution_count": 3,
   "metadata": {
    "ExecuteTime": {
     "end_time": "2019-05-06T22:00:21.530180Z",
     "start_time": "2019-05-06T22:00:21.459136Z"
    }
   },
   "outputs": [],
   "source": [
    "init_infos_path = os.path.join(path_to_logdir, \"init_infos.json\")\n",
    "results_path = os.path.join(path_to_logdir, \"results.csv\")\n",
    "balsam_workload_path = os.path.join(path_to_logdir, \"balsam-workload.json\")"
   ]
  },
  {
   "cell_type": "code",
   "execution_count": 5,
   "metadata": {},
   "outputs": [
    {
     "name": "stdout",
     "output_type": "stream",
     "text": [
      "init_infos_path: ./init_infos.json\n"
     ]
    },
    {
     "ename": "FileNotFoundError",
     "evalue": "[Errno 2] No such file or directory: './init_infos.json'",
     "output_type": "error",
     "traceback": [
      "\u001b[0;31m---------------------------------------------------------------------------\u001b[0m",
      "\u001b[0;31mFileNotFoundError\u001b[0m                         Traceback (most recent call last)",
      "\u001b[0;32m/tmp/ipykernel_99002/1966468199.py\u001b[0m in \u001b[0;36m<module>\u001b[0;34m\u001b[0m\n\u001b[1;32m     11\u001b[0m \u001b[0;34m\u001b[0m\u001b[0m\n\u001b[1;32m     12\u001b[0m \u001b[0mprint\u001b[0m\u001b[0;34m(\u001b[0m\u001b[0;34mf\"init_infos_path: {init_infos_path}\"\u001b[0m\u001b[0;34m)\u001b[0m\u001b[0;34m\u001b[0m\u001b[0;34m\u001b[0m\u001b[0m\n\u001b[0;32m---> 13\u001b[0;31m \u001b[0minit_infos\u001b[0m \u001b[0;34m=\u001b[0m \u001b[0mload_json\u001b[0m\u001b[0;34m(\u001b[0m\u001b[0minit_infos_path\u001b[0m\u001b[0;34m)\u001b[0m\u001b[0;34m\u001b[0m\u001b[0;34m\u001b[0m\u001b[0m\n\u001b[0m\u001b[1;32m     14\u001b[0m \u001b[0mresults_df\u001b[0m \u001b[0;34m=\u001b[0m \u001b[0mpd\u001b[0m\u001b[0;34m.\u001b[0m\u001b[0mread_csv\u001b[0m\u001b[0;34m(\u001b[0m\u001b[0mresults_path\u001b[0m\u001b[0;34m)\u001b[0m\u001b[0;34m\u001b[0m\u001b[0;34m\u001b[0m\u001b[0m\n\u001b[1;32m     15\u001b[0m \u001b[0;32mtry\u001b[0m\u001b[0;34m:\u001b[0m\u001b[0;34m\u001b[0m\u001b[0;34m\u001b[0m\u001b[0m\n",
      "\u001b[0;32m/tmp/ipykernel_99002/1966468199.py\u001b[0m in \u001b[0;36mload_json\u001b[0;34m(path)\u001b[0m\n\u001b[1;32m      6\u001b[0m \u001b[0;34m\u001b[0m\u001b[0m\n\u001b[1;32m      7\u001b[0m \u001b[0;32mdef\u001b[0m \u001b[0mload_json\u001b[0m\u001b[0;34m(\u001b[0m\u001b[0mpath\u001b[0m\u001b[0;34m)\u001b[0m\u001b[0;34m:\u001b[0m\u001b[0;34m\u001b[0m\u001b[0;34m\u001b[0m\u001b[0m\n\u001b[0;32m----> 8\u001b[0;31m     \u001b[0;32mwith\u001b[0m \u001b[0mopen\u001b[0m\u001b[0;34m(\u001b[0m\u001b[0mpath\u001b[0m\u001b[0;34m,\u001b[0m \u001b[0;34m'r'\u001b[0m\u001b[0;34m)\u001b[0m \u001b[0;32mas\u001b[0m \u001b[0mf\u001b[0m\u001b[0;34m:\u001b[0m\u001b[0;34m\u001b[0m\u001b[0;34m\u001b[0m\u001b[0m\n\u001b[0m\u001b[1;32m      9\u001b[0m         \u001b[0mdata\u001b[0m \u001b[0;34m=\u001b[0m \u001b[0mjson\u001b[0m\u001b[0;34m.\u001b[0m\u001b[0mload\u001b[0m\u001b[0;34m(\u001b[0m\u001b[0mf\u001b[0m\u001b[0;34m)\u001b[0m\u001b[0;34m\u001b[0m\u001b[0;34m\u001b[0m\u001b[0m\n\u001b[1;32m     10\u001b[0m     \u001b[0;32mreturn\u001b[0m \u001b[0mdata\u001b[0m\u001b[0;34m\u001b[0m\u001b[0;34m\u001b[0m\u001b[0m\n",
      "\u001b[0;31mFileNotFoundError\u001b[0m: [Errno 2] No such file or directory: './init_infos.json'"
     ]
    }
   ],
   "source": [
    "def to_sec(ts):\n",
    "    try:\n",
    "        return datetime.strptime(ts, '%Y-%m-%d %H:%M:%S').timestamp()\n",
    "    except:\n",
    "        return datetime.strptime(ts, '%Y-%m-%d %H:%M:%S.%f').timestamp()\n",
    "\n",
    "def load_json(path):\n",
    "    with open(path, 'r') as f:\n",
    "        data = json.load(f)\n",
    "    return data\n",
    "\n",
    "print(f\"init_infos_path: {init_infos_path}\")\n",
    "init_infos = load_json(init_infos_path)\n",
    "results_df = pd.read_csv(results_path)\n",
    "try:\n",
    "    balsam_workload = load_json(balsam_workload_path)\n",
    "except FileNotFoundError:\n",
    "    print(\"Balsam workload not found...\")\n",
    "\n",
    "start_timestamp = init_infos[\"start_timestamp\"]\n",
    "print(list(init_infos.keys()))"
   ]
  },
  {
   "cell_type": "markdown",
   "metadata": {},
   "source": [
    "### Matplotlib style"
   ]
  },
  {
   "cell_type": "code",
   "execution_count": null,
   "metadata": {},
   "outputs": [],
   "source": [
    "width = 8\n",
    "height = width / 1.618\n",
    "\n",
    "fontsize = 27\n",
    "legend_font_size = 23\n",
    "# fontsize = 18\n",
    "# legend_font_size = 12\n",
    "matplotlib.rcParams.update(\n",
    "    {\n",
    "        \"font.size\": fontsize,\n",
    "        \"figure.figsize\": (width, height),\n",
    "        \"figure.facecolor\": \"white\",\n",
    "        \"savefig.dpi\": 72,\n",
    "        \"figure.subplot.bottom\": 0.125,\n",
    "        \"figure.edgecolor\": \"white\",\n",
    "        \"xtick.labelsize\": fontsize,\n",
    "        \"ytick.labelsize\": fontsize,\n",
    "        \"lines.linewidth\": 3,\n",
    "    }\n",
    ")\n",
    "\n",
    "@ticker.FuncFormatter\n",
    "def hour_major_formatter(x, pos):\n",
    "    x = float(f\"{x/3600:.2f}\")\n",
    "    if x % 1 == 0:\n",
    "        x = str(int(x))\n",
    "    else:\n",
    "        x = f\"{x:.2f}\"\n",
    "    return x"
   ]
  },
  {
   "cell_type": "code",
   "execution_count": null,
   "metadata": {},
   "outputs": [],
   "source": [
    "def moving_average(data_list, window_size=100):\n",
    "    res_list = list()\n",
    "    for i in range(len(data_list) - window_size):\n",
    "            res_list.append(sum(data_list[i:i+window_size])/window_size)\n",
    "    return res_list"
   ]
  },
  {
   "cell_type": "markdown",
   "metadata": {},
   "source": [
    "## Best configuration(s)"
   ]
  },
  {
   "cell_type": "code",
   "execution_count": null,
   "metadata": {},
   "outputs": [],
   "source": [
    "output_best_configuration(results_path, \"\", k=3)"
   ]
  },
  {
   "cell_type": "markdown",
   "metadata": {},
   "source": [
    "## Information about evaluations"
   ]
  },
  {
   "cell_type": "code",
   "execution_count": null,
   "metadata": {},
   "outputs": [],
   "source": [
    "display(Markdown(f\"{len(results_df)} evaluations\"))\n",
    "display(Markdown(f\"{len(np.unique(results_df.arch_seq))} unique architectures\"))"
   ]
  },
  {
   "cell_type": "markdown",
   "metadata": {},
   "source": [
    "## Search trajectory\n",
    "\n",
    "\n",
    "### Scatter Plot"
   ]
  },
  {
   "cell_type": "code",
   "execution_count": null,
   "metadata": {},
   "outputs": [],
   "source": [
    "plt.figure()\n",
    "\n",
    "plt.scatter(results_df.elapsed_sec, results_df.objective)\n",
    "\n",
    "plt.ylabel(\"Objective\")\n",
    "plt.xlabel(\"Time (hour)\")\n",
    "\n",
    "plt.xlim(0)\n",
    "\n",
    "ax = plt.gca()\n",
    "ax.xaxis.set_major_formatter(hour_major_formatter)\n",
    "\n",
    "plt.grid()\n",
    "plt.show()"
   ]
  },
  {
   "cell_type": "markdown",
   "metadata": {},
   "source": [
    "## Balsam Workload\n",
    "### Profile"
   ]
  },
  {
   "cell_type": "code",
   "execution_count": null,
   "metadata": {},
   "outputs": [],
   "source": [
    "times = [to_sec(t)-start_timestamp for t in balsam_workload['timestamps']]\n",
    "num_running = (np.array(balsam_workload['num_jobs_running']) - 1)\n",
    "try:\n",
    "    nworkers = init_infos['num_workers']\n",
    "except:\n",
    "    nworkers = int(input('How many workers do you have ?'))\n",
    "num_running_norm = num_running / nworkers\n",
    "\n",
    "plt.fill_between(times, num_running_norm, step=\"post\", label='real')\n",
    "plt.plot(moving_average(times), moving_average(num_running_norm), 'r:', linewidth=3, label='avrg')\n",
    "\n",
    "plt.xlabel('Time (s)')\n",
    "plt.ylabel('Node utilization')\n",
    "plt.xlim(0)\n",
    "plt.ylim(0)\n",
    "plt.legend()\n",
    "\n",
    "ax = plt.gca()\n",
    "ax.xaxis.set_major_formatter(hour_major_formatter)\n",
    "\n",
    "plt.grid()\n",
    "plt.show()"
   ]
  },
  {
   "cell_type": "markdown",
   "metadata": {},
   "source": [
    "### Pie chart"
   ]
  },
  {
   "cell_type": "code",
   "execution_count": null,
   "metadata": {},
   "outputs": [],
   "source": [
    "def integrate_square(x, y, offset=0):\n",
    "    res = 0\n",
    "    for i in range(len(x)-1):\n",
    "        res += (x[i+1] - x[i]) * y[i]\n",
    "    return res\n",
    "\n",
    "nworkers = init_infos['num_workers']\n",
    "total_available = nworkers * times[-1]\n",
    "used_time = integrate_square(times, num_running)\n",
    "unused_time = total_available - used_time\n",
    "perc_used_time = int(used_time / total_available * 100)\n",
    "perc_unused_time = int(unused_time / total_available * 100)\n",
    "label_used_time = f'{perc_used_time}% used'\n",
    "label_unused_time = f'{perc_unused_time}% unused'\n",
    "lpie = plt.pie([used_time, unused_time],\n",
    "               labels=[label_used_time, label_unused_time],\n",
    "               colors=['green', 'red'])\n",
    "plt.show()"
   ]
  }
 ],
 "metadata": {
  "kernelspec": {
   "display_name": "Python 3 (ipykernel)",
   "language": "python",
   "name": "python3"
  },
  "language_info": {
   "codemirror_mode": {
    "name": "ipython",
    "version": 3
   },
   "file_extension": ".py",
   "mimetype": "text/x-python",
   "name": "python",
   "nbconvert_exporter": "python",
   "pygments_lexer": "ipython3",
   "version": "3.8.10"
  },
  "toc": {
   "base_numbering": 1,
   "nav_menu": {},
   "number_sections": true,
   "sideBar": true,
   "skip_h1_title": false,
   "title_cell": "Table of Contents",
   "title_sidebar": "Contents",
   "toc_cell": false,
   "toc_position": {},
   "toc_section_display": true,
   "toc_window_display": false
  }
 },
 "nbformat": 4,
 "nbformat_minor": 2
}
