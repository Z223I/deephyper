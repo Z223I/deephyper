{
 "cells": [
  {
   "cell_type": "markdown",
   "metadata": {
    "ExecuteTime": {
     "end_time": "2019-05-06T21:59:04.765111Z",
     "start_time": "2019-05-06T21:59:04.762923Z"
    }
   },
   "source": [
    "# DeepHyper Analytics for Neural Architecture Search - Single Study\n",
    "**path to data log directory**: data_2021-07-14_01.json\n",
    "\n",
    "for customization please see: https://matplotlib.org/api/matplotlib_configuration_api.html\n",
    "\n",
    "## Setup & Data loading"
   ]
  },
  {
   "cell_type": "code",
   "execution_count": 1,
   "metadata": {},
   "outputs": [],
   "source": [
    "path_to_logdir = '/home/bwilson/DL/deephyper'"
   ]
  },
  {
   "cell_type": "code",
   "execution_count": 2,
   "metadata": {},
   "outputs": [],
   "source": [
    "import os\n",
    "import json\n",
    "from pprint import pprint\n",
    "from datetime import datetime\n",
    "\n",
    "import matplotlib\n",
    "import matplotlib.ticker as ticker\n",
    "import matplotlib.pyplot as plt\n",
    "\n",
    "import numpy as np\n",
    "import pandas as pd\n",
    "from tqdm import tqdm\n",
    "from IPython.display import display, Markdown\n",
    "\n",
    "from deephyper.core.logs.topk import output_best_configuration"
   ]
  },
  {
   "cell_type": "code",
   "execution_count": 3,
   "metadata": {
    "ExecuteTime": {
     "end_time": "2019-05-06T22:00:21.530180Z",
     "start_time": "2019-05-06T22:00:21.459136Z"
    }
   },
   "outputs": [],
   "source": [
    "init_infos_path = os.path.join(path_to_logdir, \"init_infos.json\")\n",
    "results_path = os.path.join(path_to_logdir, \"results.csv\")\n",
    "balsam_workload_path = os.path.join(path_to_logdir, \"balsam-workload.json\")"
   ]
  },
  {
   "cell_type": "code",
   "execution_count": 4,
   "metadata": {},
   "outputs": [
    {
     "name": "stdout",
     "output_type": "stream",
     "text": [
      "init_infos_path: /home/bwilson/DL/deephyper/init_infos.json\n",
      "Balsam workload not found...\n",
      "['start_timestamp', 'num_workers', 'max_evals', 'problem']\n"
     ]
    }
   ],
   "source": [
    "def to_sec(ts):\n",
    "    try:\n",
    "        return datetime.strptime(ts, '%Y-%m-%d %H:%M:%S').timestamp()\n",
    "    except:\n",
    "        return datetime.strptime(ts, '%Y-%m-%d %H:%M:%S.%f').timestamp()\n",
    "\n",
    "def load_json(path):\n",
    "    with open(path, 'r') as f:\n",
    "        data = json.load(f)\n",
    "    return data\n",
    "\n",
    "print(f\"init_infos_path: {init_infos_path}\")\n",
    "init_infos = load_json(init_infos_path)\n",
    "results_df = pd.read_csv(results_path)\n",
    "try:\n",
    "    balsam_workload = load_json(balsam_workload_path)\n",
    "except FileNotFoundError:\n",
    "    print(\"Balsam workload not found...\")\n",
    "\n",
    "start_timestamp = init_infos[\"start_timestamp\"]\n",
    "print(list(init_infos.keys()))"
   ]
  },
  {
   "cell_type": "markdown",
   "metadata": {},
   "source": [
    "### Matplotlib style"
   ]
  },
  {
   "cell_type": "code",
   "execution_count": 5,
   "metadata": {},
   "outputs": [],
   "source": [
    "width = 8\n",
    "height = width / 1.618\n",
    "\n",
    "fontsize = 27\n",
    "legend_font_size = 23\n",
    "# fontsize = 18\n",
    "# legend_font_size = 12\n",
    "matplotlib.rcParams.update(\n",
    "    {\n",
    "        \"font.size\": fontsize,\n",
    "        \"figure.figsize\": (width, height),\n",
    "        \"figure.facecolor\": \"white\",\n",
    "        \"savefig.dpi\": 72,\n",
    "        \"figure.subplot.bottom\": 0.125,\n",
    "        \"figure.edgecolor\": \"white\",\n",
    "        \"xtick.labelsize\": fontsize,\n",
    "        \"ytick.labelsize\": fontsize,\n",
    "        \"lines.linewidth\": 3,\n",
    "    }\n",
    ")\n",
    "\n",
    "@ticker.FuncFormatter\n",
    "def hour_major_formatter(x, pos):\n",
    "    x = float(f\"{x/3600:.2f}\")\n",
    "    if x % 1 == 0:\n",
    "        x = str(int(x))\n",
    "    else:\n",
    "        x = f\"{x:.2f}\"\n",
    "    return x"
   ]
  },
  {
   "cell_type": "code",
   "execution_count": 6,
   "metadata": {},
   "outputs": [],
   "source": [
    "def moving_average(data_list, window_size=100):\n",
    "    res_list = list()\n",
    "    for i in range(len(data_list) - window_size):\n",
    "            res_list.append(sum(data_list[i:i+window_size])/window_size)\n",
    "    return res_list"
   ]
  },
  {
   "cell_type": "markdown",
   "metadata": {},
   "source": [
    "## Best configuration(s)"
   ]
  },
  {
   "cell_type": "code",
   "execution_count": 7,
   "metadata": {},
   "outputs": [
    {
     "name": "stdout",
     "output_type": "stream",
     "text": [
      "'0':\n",
      "  arch_seq: '[0.8323024001314224, 0.7889290619064494, 0.9385678954207153, 0.16059637997392429,\n",
      "    0.6488539744120456, 0.8325765404421139, 0.9888735139157468, 0.9322143923769549,\n",
      "    0.7933123406870071]'\n",
      "  elapsed_sec: 89.9581792355\n",
      "  id: 678aa6f4-e42d-11eb-a964-f18f9b2aeba1\n",
      "  objective: 1.0\n",
      "'1':\n",
      "  arch_seq: '[0.11650447341058867, 0.5875885504875177, 0.7616171130499415, 0.40112081475681394,\n",
      "    0.7493532265120827, 0.2800965658218403, 0.31393139677072335, 0.165157311048022,\n",
      "    0.8629399531678635]'\n",
      "  elapsed_sec: 1583.2949447632\n",
      "  id: 02a893d0-e431-11eb-aa27-f18f9b2aeba1\n",
      "  objective: 1.0\n",
      "'2':\n",
      "  arch_seq: '[0.33164869729598867, 0.20248330614152665, 0.2547469587010932, 0.015167333255724169,\n",
      "    0.2775206010994029, 0.9916415578893681, 0.4538746929355745, 0.21892060220106446,\n",
      "    0.9121595786916527]'\n",
      "  elapsed_sec: 1584.8581268787\n",
      "  id: 039cd79e-e431-11eb-aa27-f18f9b2aeba1\n",
      "  objective: 1.0\n",
      "\n"
     ]
    }
   ],
   "source": [
    "output_best_configuration(results_path, \"\", k=3)"
   ]
  },
  {
   "cell_type": "markdown",
   "metadata": {},
   "source": [
    "## Information about evaluations"
   ]
  },
  {
   "cell_type": "code",
   "execution_count": 8,
   "metadata": {},
   "outputs": [
    {
     "data": {
      "text/markdown": [
       "26332 evaluations"
      ],
      "text/plain": [
       "<IPython.core.display.Markdown object>"
      ]
     },
     "metadata": {},
     "output_type": "display_data"
    },
    {
     "data": {
      "text/markdown": [
       "26332 unique architectures"
      ],
      "text/plain": [
       "<IPython.core.display.Markdown object>"
      ]
     },
     "metadata": {},
     "output_type": "display_data"
    }
   ],
   "source": [
    "display(Markdown(f\"{len(results_df)} evaluations\"))\n",
    "display(Markdown(f\"{len(np.unique(results_df.arch_seq))} unique architectures\"))"
   ]
  },
  {
   "cell_type": "markdown",
   "metadata": {},
   "source": [
    "## Search trajectory\n",
    "\n",
    "\n",
    "### Scatter Plot"
   ]
  },
  {
   "cell_type": "code",
   "execution_count": 9,
   "metadata": {},
   "outputs": [
    {
     "data": {
      "image/png": "[encoded data removed]",
      "text/plain": [
       "<Figure size 576x355.995 with 1 Axes>"
      ]
     },
     "metadata": {},
     "output_type": "display_data"
    }
   ],
   "source": [
    "plt.figure()\n",
    "\n",
    "plt.scatter(results_df.elapsed_sec, results_df.objective)\n",
    "\n",
    "plt.ylabel(\"Objective\")\n",
    "plt.xlabel(\"Time (hour)\")\n",
    "\n",
    "plt.xlim(0)\n",
    "\n",
    "ax = plt.gca()\n",
    "ax.xaxis.set_major_formatter(hour_major_formatter)\n",
    "\n",
    "plt.grid()\n",
    "plt.show()"
   ]
  },
  {
   "cell_type": "markdown",
   "metadata": {},
   "source": [
    "## Balsam Workload\n",
    "### Profile"
   ]
  },
  {
   "cell_type": "code",
   "execution_count": 10,
   "metadata": {},
   "outputs": [
    {
     "ename": "NameError",
     "evalue": "name 'balsam_workload' is not defined",
     "output_type": "error",
     "traceback": [
      "\u001b[0;31m---------------------------------------------------------------------------\u001b[0m",
      "\u001b[0;31mNameError\u001b[0m                                 Traceback (most recent call last)",
      "\u001b[0;32m/tmp/ipykernel_99513/4185247355.py\u001b[0m in \u001b[0;36m<module>\u001b[0;34m\u001b[0m\n\u001b[0;32m----> 1\u001b[0;31m \u001b[0mtimes\u001b[0m \u001b[0;34m=\u001b[0m \u001b[0;34m[\u001b[0m\u001b[0mto_sec\u001b[0m\u001b[0;34m(\u001b[0m\u001b[0mt\u001b[0m\u001b[0;34m)\u001b[0m\u001b[0;34m-\u001b[0m\u001b[0mstart_timestamp\u001b[0m \u001b[0;32mfor\u001b[0m \u001b[0mt\u001b[0m \u001b[0;32min\u001b[0m \u001b[0mbalsam_workload\u001b[0m\u001b[0;34m[\u001b[0m\u001b[0;34m'timestamps'\u001b[0m\u001b[0;34m]\u001b[0m\u001b[0;34m]\u001b[0m\u001b[0;34m\u001b[0m\u001b[0;34m\u001b[0m\u001b[0m\n\u001b[0m\u001b[1;32m      2\u001b[0m \u001b[0mnum_running\u001b[0m \u001b[0;34m=\u001b[0m \u001b[0;34m(\u001b[0m\u001b[0mnp\u001b[0m\u001b[0;34m.\u001b[0m\u001b[0marray\u001b[0m\u001b[0;34m(\u001b[0m\u001b[0mbalsam_workload\u001b[0m\u001b[0;34m[\u001b[0m\u001b[0;34m'num_jobs_running'\u001b[0m\u001b[0;34m]\u001b[0m\u001b[0;34m)\u001b[0m \u001b[0;34m-\u001b[0m \u001b[0;36m1\u001b[0m\u001b[0;34m)\u001b[0m\u001b[0;34m\u001b[0m\u001b[0;34m\u001b[0m\u001b[0m\n\u001b[1;32m      3\u001b[0m \u001b[0;32mtry\u001b[0m\u001b[0;34m:\u001b[0m\u001b[0;34m\u001b[0m\u001b[0;34m\u001b[0m\u001b[0m\n\u001b[1;32m      4\u001b[0m     \u001b[0mnworkers\u001b[0m \u001b[0;34m=\u001b[0m \u001b[0minit_infos\u001b[0m\u001b[0;34m[\u001b[0m\u001b[0;34m'num_workers'\u001b[0m\u001b[0;34m]\u001b[0m\u001b[0;34m\u001b[0m\u001b[0;34m\u001b[0m\u001b[0m\n\u001b[1;32m      5\u001b[0m \u001b[0;32mexcept\u001b[0m\u001b[0;34m:\u001b[0m\u001b[0;34m\u001b[0m\u001b[0;34m\u001b[0m\u001b[0m\n",
      "\u001b[0;31mNameError\u001b[0m: name 'balsam_workload' is not defined"
     ]
    }
   ],
   "source": [
    "times = [to_sec(t)-start_timestamp for t in balsam_workload['timestamps']]\n",
    "num_running = (np.array(balsam_workload['num_jobs_running']) - 1)\n",
    "try:\n",
    "    nworkers = init_infos['num_workers']\n",
    "except:\n",
    "    nworkers = int(input('How many workers do you have ?'))\n",
    "num_running_norm = num_running / nworkers\n",
    "\n",
    "plt.fill_between(times, num_running_norm, step=\"post\", label='real')\n",
    "plt.plot(moving_average(times), moving_average(num_running_norm), 'r:', linewidth=3, label='avrg')\n",
    "\n",
    "plt.xlabel('Time (s)')\n",
    "plt.ylabel('Node utilization')\n",
    "plt.xlim(0)\n",
    "plt.ylim(0)\n",
    "plt.legend()\n",
    "\n",
    "ax = plt.gca()\n",
    "ax.xaxis.set_major_formatter(hour_major_formatter)\n",
    "\n",
    "plt.grid()\n",
    "plt.show()"
   ]
  },
  {
   "cell_type": "markdown",
   "metadata": {},
   "source": [
    "### Pie chart"
   ]
  },
  {
   "cell_type": "code",
   "execution_count": 11,
   "metadata": {},
   "outputs": [
    {
     "ename": "NameError",
     "evalue": "name 'times' is not defined",
     "output_type": "error",
     "traceback": [
      "\u001b[0;31m---------------------------------------------------------------------------\u001b[0m",
      "\u001b[0;31mNameError\u001b[0m                                 Traceback (most recent call last)",
      "\u001b[0;32m/tmp/ipykernel_99513/1612685925.py\u001b[0m in \u001b[0;36m<module>\u001b[0;34m\u001b[0m\n\u001b[1;32m      6\u001b[0m \u001b[0;34m\u001b[0m\u001b[0m\n\u001b[1;32m      7\u001b[0m \u001b[0mnworkers\u001b[0m \u001b[0;34m=\u001b[0m \u001b[0minit_infos\u001b[0m\u001b[0;34m[\u001b[0m\u001b[0;34m'num_workers'\u001b[0m\u001b[0;34m]\u001b[0m\u001b[0;34m\u001b[0m\u001b[0;34m\u001b[0m\u001b[0m\n\u001b[0;32m----> 8\u001b[0;31m \u001b[0mtotal_available\u001b[0m \u001b[0;34m=\u001b[0m \u001b[0mnworkers\u001b[0m \u001b[0;34m*\u001b[0m \u001b[0mtimes\u001b[0m\u001b[0;34m[\u001b[0m\u001b[0;34m-\u001b[0m\u001b[0;36m1\u001b[0m\u001b[0;34m]\u001b[0m\u001b[0;34m\u001b[0m\u001b[0;34m\u001b[0m\u001b[0m\n\u001b[0m\u001b[1;32m      9\u001b[0m \u001b[0mused_time\u001b[0m \u001b[0;34m=\u001b[0m \u001b[0mintegrate_square\u001b[0m\u001b[0;34m(\u001b[0m\u001b[0mtimes\u001b[0m\u001b[0;34m,\u001b[0m \u001b[0mnum_running\u001b[0m\u001b[0;34m)\u001b[0m\u001b[0;34m\u001b[0m\u001b[0;34m\u001b[0m\u001b[0m\n\u001b[1;32m     10\u001b[0m \u001b[0munused_time\u001b[0m \u001b[0;34m=\u001b[0m \u001b[0mtotal_available\u001b[0m \u001b[0;34m-\u001b[0m \u001b[0mused_time\u001b[0m\u001b[0;34m\u001b[0m\u001b[0;34m\u001b[0m\u001b[0m\n",
      "\u001b[0;31mNameError\u001b[0m: name 'times' is not defined"
     ]
    }
   ],
   "source": [
    "def integrate_square(x, y, offset=0):\n",
    "    res = 0\n",
    "    for i in range(len(x)-1):\n",
    "        res += (x[i+1] - x[i]) * y[i]\n",
    "    return res\n",
    "\n",
    "nworkers = init_infos['num_workers']\n",
    "total_available = nworkers * times[-1]\n",
    "used_time = integrate_square(times, num_running)\n",
    "unused_time = total_available - used_time\n",
    "perc_used_time = int(used_time / total_available * 100)\n",
    "perc_unused_time = int(unused_time / total_available * 100)\n",
    "label_used_time = f'{perc_used_time}% used'\n",
    "label_unused_time = f'{perc_unused_time}% unused'\n",
    "lpie = plt.pie([used_time, unused_time],\n",
    "               labels=[label_used_time, label_unused_time],\n",
    "               colors=['green', 'red'])\n",
    "plt.show()"
   ]
  }
 ],
 "metadata": {
  "kernelspec": {
   "display_name": "Python 3 (ipykernel)",
   "language": "python",
   "name": "python3"
  },
  "language_info": {
   "codemirror_mode": {
    "name": "ipython",
    "version": 3
   },
   "file_extension": ".py",
   "mimetype": "text/x-python",
   "name": "python",
   "nbconvert_exporter": "python",
   "pygments_lexer": "ipython3",
   "version": "3.8.10"
  },
  "toc": {
   "base_numbering": 1,
   "nav_menu": {},
   "number_sections": true,
   "sideBar": true,
   "skip_h1_title": false,
   "title_cell": "Table of Contents",
   "title_sidebar": "Contents",
   "toc_cell": false,
   "toc_position": {},
   "toc_section_display": true,
   "toc_window_display": false
  }
 },
 "nbformat": 4,
 "nbformat_minor": 2
}
